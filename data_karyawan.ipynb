{
  "nbformat": 4,
  "nbformat_minor": 0,
  "metadata": {
    "colab": {
      "provenance": []
    },
    "kernelspec": {
      "name": "python3",
      "display_name": "Python 3"
    },
    "language_info": {
      "name": "python"
    }
  },
  "cells": [
    {
      "cell_type": "code",
      "source": [
        "import gdown\n",
        "import pandas as pd\n",
        "\n",
        "# URL dari file Google Drive\n",
        "url = 'https://drive.google.com/uc?id=1JJae2Dr6D95VDdd4NgexebVO2TL3_pXs'\n",
        "\n",
        "# Unduh file\n",
        "output = 'test.csv'\n",
        "gdown.download(url, output, quiet=False)\n",
        "\n",
        "# Baca file CSV\n",
        "data = pd.read_csv(output)\n",
        "print(data.head())"
      ],
      "metadata": {
        "colab": {
          "base_uri": "https://localhost:8080/",
          "height": 0
        },
        "id": "gFfAjyyWk1IC",
        "outputId": "3acffc90-cae1-452c-a651-f7d7c5576f49"
      },
      "execution_count": 5,
      "outputs": [
        {
          "output_type": "stream",
          "name": "stderr",
          "text": [
            "Downloading...\n",
            "From: https://drive.google.com/uc?id=1JJae2Dr6D95VDdd4NgexebVO2TL3_pXs\n",
            "To: /content/test.csv\n",
            "100%|██████████| 1.91M/1.91M [00:00<00:00, 84.5MB/s]\n"
          ]
        },
        {
          "output_type": "stream",
          "name": "stdout",
          "text": [
            "   Employee ID  Age Gender  Years at Company    Job Role  Monthly Income  \\\n",
            "0        52685   36   Male                13  Healthcare            8029   \n",
            "1        30585   35   Male                 7   Education            4563   \n",
            "2        54656   50   Male                 7   Education            5583   \n",
            "3        33442   58   Male                44       Media            5525   \n",
            "4        15667   39   Male                24   Education            4604   \n",
            "\n",
            "  Work-Life Balance Job Satisfaction Performance Rating  Number of Promotions  \\\n",
            "0         Excellent             High            Average                     1   \n",
            "1              Good             High            Average                     1   \n",
            "2              Fair             High            Average                     3   \n",
            "3              Fair        Very High               High                     0   \n",
            "4              Good             High            Average                     0   \n",
            "\n",
            "   ... Number of Dependents  Job Level Company Size Company Tenure  \\\n",
            "0  ...                    1        Mid        Large             22   \n",
            "1  ...                    4      Entry       Medium             27   \n",
            "2  ...                    2     Senior       Medium             76   \n",
            "3  ...                    4      Entry       Medium             96   \n",
            "4  ...                    6        Mid        Large             45   \n",
            "\n",
            "   Remote Work Leadership Opportunities Innovation Opportunities  \\\n",
            "0           No                       No                       No   \n",
            "1           No                       No                       No   \n",
            "2           No                       No                      Yes   \n",
            "3           No                       No                       No   \n",
            "4          Yes                       No                       No   \n",
            "\n",
            "   Company Reputation Employee Recognition Attrition  \n",
            "0                Poor               Medium    Stayed  \n",
            "1                Good                 High      Left  \n",
            "2                Good                  Low    Stayed  \n",
            "3                Poor                  Low      Left  \n",
            "4                Good                 High    Stayed  \n",
            "\n",
            "[5 rows x 24 columns]\n"
          ]
        }
      ]
    },
    {
      "cell_type": "code",
      "source": [
        "import pandas as pd\n",
        "import numpy as np\n",
        "\n",
        "# Dropping rows with missing values\n",
        "data_clean = data.dropna()\n",
        "\n",
        "# Converting categorical variables to numeric for logistic regression\n",
        "data_clean['Work-Life Balance'] = data_clean['Work-Life Balance'].map({'Poor': 1, 'Fair': 2, 'Good': 3, 'Excellent': 4})\n",
        "data_clean['Job Satisfaction'] = data_clean['Job Satisfaction'].map({'Low': 1, 'Medium': 2, 'High': 3, 'Very High': 4})\n",
        "data_clean['Performance Rating'] = data_clean['Performance Rating'].map({'Low': 1, 'Average': 2, 'High': 3, 'Very High': 4})\n",
        "data_clean['Attrition_Binary'] = data_clean['Attrition'].apply(lambda x: 1 if x == 'Left' else 0)\n"
      ],
      "metadata": {
        "id": "ZWTUmZycWGE8"
      },
      "execution_count": 6,
      "outputs": []
    },
    {
      "cell_type": "code",
      "source": [
        "# Check the cleaned data\n",
        "print(\"Cleaned Data Summary:\")\n",
        "print(data_clean.info())\n",
        "print(data_clean['Work-Life Balance'].value_counts())\n",
        "print(data_clean['Job Satisfaction'].value_counts())\n"
      ],
      "metadata": {
        "colab": {
          "base_uri": "https://localhost:8080/",
          "height": 0
        },
        "id": "xN1dc2E4igjG",
        "outputId": "1d56ac10-666d-493b-e7b6-8dc2c4cfaf57"
      },
      "execution_count": 7,
      "outputs": [
        {
          "output_type": "stream",
          "name": "stdout",
          "text": [
            "Cleaned Data Summary:\n",
            "<class 'pandas.core.frame.DataFrame'>\n",
            "RangeIndex: 14900 entries, 0 to 14899\n",
            "Data columns (total 25 columns):\n",
            " #   Column                    Non-Null Count  Dtype  \n",
            "---  ------                    --------------  -----  \n",
            " 0   Employee ID               14900 non-null  int64  \n",
            " 1   Age                       14900 non-null  int64  \n",
            " 2   Gender                    14900 non-null  object \n",
            " 3   Years at Company          14900 non-null  int64  \n",
            " 4   Job Role                  14900 non-null  object \n",
            " 5   Monthly Income            14900 non-null  int64  \n",
            " 6   Work-Life Balance         14900 non-null  int64  \n",
            " 7   Job Satisfaction          14900 non-null  int64  \n",
            " 8   Performance Rating        12711 non-null  float64\n",
            " 9   Number of Promotions      14900 non-null  int64  \n",
            " 10  Overtime                  14900 non-null  object \n",
            " 11  Distance from Home        14900 non-null  int64  \n",
            " 12  Education Level           14900 non-null  object \n",
            " 13  Marital Status            14900 non-null  object \n",
            " 14  Number of Dependents      14900 non-null  int64  \n",
            " 15  Job Level                 14900 non-null  object \n",
            " 16  Company Size              14900 non-null  object \n",
            " 17  Company Tenure            14900 non-null  int64  \n",
            " 18  Remote Work               14900 non-null  object \n",
            " 19  Leadership Opportunities  14900 non-null  object \n",
            " 20  Innovation Opportunities  14900 non-null  object \n",
            " 21  Company Reputation        14900 non-null  object \n",
            " 22  Employee Recognition      14900 non-null  object \n",
            " 23  Attrition                 14900 non-null  object \n",
            " 24  Attrition_Binary          14900 non-null  int64  \n",
            "dtypes: float64(1), int64(11), object(13)\n",
            "memory usage: 2.8+ MB\n",
            "None\n",
            "Work-Life Balance\n",
            "3    5630\n",
            "2    4483\n",
            "4    2713\n",
            "1    2074\n",
            "Name: count, dtype: int64\n",
            "Job Satisfaction\n",
            "3    7466\n",
            "4    2968\n",
            "2    2900\n",
            "1    1566\n",
            "Name: count, dtype: int64\n"
          ]
        }
      ]
    },
    {
      "cell_type": "code",
      "source": [
        "# Ensure no inf or NaN in the data used for logistic regression\n",
        "data_clean.replace([np.inf, -np.inf], np.nan, inplace=True)\n",
        "data_clean.dropna(inplace=True)\n",
        "\n",
        "# Descriptive statistics\n",
        "desc_stats = data_clean.describe()\n",
        "print(\"Descriptive Statistics:\\n\", desc_stats)\n"
      ],
      "metadata": {
        "colab": {
          "base_uri": "https://localhost:8080/",
          "height": 0
        },
        "id": "mt9wmGCvjmV5",
        "outputId": "345374bc-d969-4804-b592-0a952a6a83ff"
      },
      "execution_count": 8,
      "outputs": [
        {
          "output_type": "stream",
          "name": "stdout",
          "text": [
            "Descriptive Statistics:\n",
            "         Employee ID           Age  Years at Company  Monthly Income  \\\n",
            "count  12711.000000  12711.000000      12711.000000    12711.000000   \n",
            "mean   37169.279836     38.314216         15.583353     7298.058139   \n",
            "std    21427.161278     12.066336         11.115159     2154.539407   \n",
            "min        7.000000     18.000000          1.000000     1253.000000   \n",
            "25%    18584.500000     28.000000          7.000000     5650.500000   \n",
            "50%    37185.000000     38.000000         13.000000     7344.000000   \n",
            "75%    55672.500000     49.000000         23.000000     8865.000000   \n",
            "max    74465.000000     59.000000         51.000000    14707.000000   \n",
            "\n",
            "       Work-Life Balance  Job Satisfaction  Performance Rating  \\\n",
            "count       12711.000000      12711.000000        12711.000000   \n",
            "mean            2.598851          2.795453            2.176383   \n",
            "std             0.941463          0.876935            0.517708   \n",
            "min             1.000000          1.000000            1.000000   \n",
            "25%             2.000000          2.000000            2.000000   \n",
            "50%             3.000000          3.000000            2.000000   \n",
            "75%             3.000000          3.000000            2.000000   \n",
            "max             4.000000          4.000000            3.000000   \n",
            "\n",
            "       Number of Promotions  Distance from Home  Number of Dependents  \\\n",
            "count          12711.000000        12711.000000          12711.000000   \n",
            "mean               0.837385           49.971206              1.665487   \n",
            "std                1.000664           28.713931              1.548473   \n",
            "min                0.000000            1.000000              0.000000   \n",
            "25%                0.000000           25.000000              0.000000   \n",
            "50%                1.000000           50.000000              1.000000   \n",
            "75%                2.000000           75.000000              3.000000   \n",
            "max                4.000000           99.000000              6.000000   \n",
            "\n",
            "       Company Tenure  Attrition_Binary  \n",
            "count    12711.000000      12711.000000  \n",
            "mean        55.582566          0.465974  \n",
            "std         25.419763          0.498861  \n",
            "min          2.000000          0.000000  \n",
            "25%         36.000000          0.000000  \n",
            "50%         56.000000          0.000000  \n",
            "75%         75.000000          1.000000  \n",
            "max        126.000000          1.000000  \n"
          ]
        }
      ]
    },
    {
      "cell_type": "code",
      "source": [
        "from scipy.stats import chi2_contingency\n",
        "\n",
        "# Chi-square tests for categorical variables\n",
        "attrition_by_gender = pd.crosstab(data_clean['Gender'], data_clean['Attrition'])\n",
        "chi2_gender, p_gender, _, _ = chi2_contingency(attrition_by_gender)\n",
        "\n",
        "attrition_by_job_role = pd.crosstab(data_clean['Job Role'], data_clean['Attrition'])\n",
        "chi2_job_role, p_job_role, _, _ = chi2_contingency(attrition_by_job_role)\n",
        "\n",
        "attrition_by_work_life_balance = pd.crosstab(data_clean['Work-Life Balance'], data_clean['Attrition'])\n",
        "chi2_work_life_balance, p_work_life_balance, _, _ = chi2_contingency(attrition_by_work_life_balance)\n",
        "\n",
        "attrition_by_job_satisfaction = pd.crosstab(data_clean['Job Satisfaction'], data_clean['Attrition'])\n",
        "chi2_job_satisfaction, p_job_satisfaction, _, _ = chi2_contingency(attrition_by_job_satisfaction)\n",
        "\n",
        "print(\"\\nChi-Square Test Results:\")\n",
        "print(f\"Gender vs Attrition: chi2 = {chi2_gender}, p = {p_gender}\")\n",
        "print(f\"Job Role vs Attrition: chi2 = {chi2_job_role}, p = {p_job_role}\")\n",
        "print(f\"Work-Life Balance vs Attrition: chi2 = {chi2_work_life_balance}, p = {p_work_life_balance}\")\n",
        "print(f\"Job Satisfaction vs Attrition: chi2 = {chi2_job_satisfaction}, p = {p_job_satisfaction}\")\n"
      ],
      "metadata": {
        "colab": {
          "base_uri": "https://localhost:8080/",
          "height": 0
        },
        "id": "HMhVZHYvjovE",
        "outputId": "5b86b30a-4171-4893-f896-cc3432eacfa4"
      },
      "execution_count": 9,
      "outputs": [
        {
          "output_type": "stream",
          "name": "stdout",
          "text": [
            "\n",
            "Chi-Square Test Results:\n",
            "Gender vs Attrition: chi2 = 117.75983065336985, p = 1.957070115323069e-27\n",
            "Job Role vs Attrition: chi2 = 11.702313041718874, p = 0.019707834189923255\n",
            "Work-Life Balance vs Attrition: chi2 = 533.9354989550424, p = 2.1080219383714954e-115\n",
            "Job Satisfaction vs Attrition: chi2 = 104.77655966806968, p = 1.4595482877784008e-22\n"
          ]
        }
      ]
    },
    {
      "cell_type": "code",
      "source": [
        "from scipy.stats import ttest_ind\n",
        "\n",
        "# T-tests for numerical variables\n",
        "income_left = data_clean[data_clean['Attrition'] == 'Left']['Monthly Income']\n",
        "income_stayed = data_clean[data_clean['Attrition'] == 'Stayed']['Monthly Income']\n",
        "t_stat_income, p_value_income = ttest_ind(income_left, income_stayed)\n",
        "\n",
        "years_left = data_clean[data_clean['Attrition'] == 'Left']['Years at Company']\n",
        "years_stayed = data_clean[data_clean['Attrition'] == 'Stayed']['Years at Company']\n",
        "t_stat_years, p_value_years = ttest_ind(years_left, years_stayed)\n",
        "\n",
        "print(\"\\nT-Test Results:\")\n",
        "print(f\"Monthly Income vs Attrition: t-stat = {t_stat_income}, p = {p_value_income}\")\n",
        "print(f\"Years at Company vs Attrition: t-stat = {t_stat_years}, p = {p_value_years}\")\n"
      ],
      "metadata": {
        "colab": {
          "base_uri": "https://localhost:8080/",
          "height": 0
        },
        "id": "nHcnO6-Ajq4E",
        "outputId": "af2ac768-21e2-4daf-bf1a-7d715bce9ab1"
      },
      "execution_count": 10,
      "outputs": [
        {
          "output_type": "stream",
          "name": "stdout",
          "text": [
            "\n",
            "T-Test Results:\n",
            "Monthly Income vs Attrition: t-stat = -0.4701174599568766, p = 0.6382791672685506\n",
            "Years at Company vs Attrition: t-stat = -7.466043126763182, p = 8.802626245752287e-14\n"
          ]
        }
      ]
    },
    {
      "cell_type": "code",
      "source": [
        "import statsmodels.api as sm\n",
        "\n",
        "# Logistic regression model\n",
        "X = data_clean[['Age', 'Years at Company', 'Monthly Income', 'Job Satisfaction', 'Work-Life Balance', 'Performance Rating']]\n",
        "y = data_clean['Attrition_Binary']\n",
        "X = sm.add_constant(X)\n",
        "logit_model = sm.Logit(y, X)\n",
        "result = logit_model.fit()\n",
        "\n",
        "# Summary of logistic regression\n",
        "logit_summary = result.summary2().tables[1]\n",
        "print(\"\\nLogistic Regression Summary:\\n\", logit_summary)\n"
      ],
      "metadata": {
        "colab": {
          "base_uri": "https://localhost:8080/",
          "height": 0
        },
        "id": "rtUHKdhMjuGV",
        "outputId": "268bddae-35c0-4a4b-d83b-c43ab0bc4520"
      },
      "execution_count": 11,
      "outputs": [
        {
          "output_type": "stream",
          "name": "stdout",
          "text": [
            "Optimization terminated successfully.\n",
            "         Current function value: 0.669572\n",
            "         Iterations 4\n",
            "\n",
            "Logistic Regression Summary:\n",
            "                        Coef.  Std.Err.          z          P>|z|    [0.025  \\\n",
            "const               1.449931  0.139019  10.429719   1.814244e-25  1.177459   \n",
            "Age                -0.005520  0.001773  -3.113942   1.846060e-03 -0.008994   \n",
            "Years at Company   -0.009527  0.001936  -4.919989   8.654889e-07 -0.013322   \n",
            "Monthly Income     -0.000003  0.000008  -0.370272   7.111796e-01 -0.000020   \n",
            "Job Satisfaction    0.009521  0.020710   0.459760   6.456885e-01 -0.031068   \n",
            "Work-Life Balance  -0.418965  0.019686 -21.282232  1.658557e-100 -0.457550   \n",
            "Performance Rating -0.067438  0.035123  -1.920085   5.484714e-02 -0.136277   \n",
            "\n",
            "                      0.975]  \n",
            "const               1.722404  \n",
            "Age                -0.002046  \n",
            "Years at Company   -0.005731  \n",
            "Monthly Income      0.000013  \n",
            "Job Satisfaction    0.050111  \n",
            "Work-Life Balance  -0.380381  \n",
            "Performance Rating  0.001401  \n"
          ]
        }
      ]
    },
    {
      "cell_type": "code",
      "source": [
        "import matplotlib.pyplot as plt\n",
        "import seaborn as sns\n",
        "\n",
        "# Plot distribution of age\n",
        "plt.figure(figsize=(10, 6))\n",
        "sns.histplot(data_clean['Age'], kde=True)\n",
        "plt.title('Distribusi Umur')\n",
        "plt.xlabel('Umur')\n",
        "plt.ylabel('Frekuensi')\n",
        "plt.show()"
      ],
      "metadata": {
        "colab": {
          "base_uri": "https://localhost:8080/",
          "height": 564
        },
        "id": "_r2MZ5Apjxoe",
        "outputId": "c3b50591-c5d8-4086-b8d7-9628e45a66d0"
      },
      "execution_count": 12,
      "outputs": [
        {
          "output_type": "display_data",
          "data": {
            "text/plain": [
              "<Figure size 1000x600 with 1 Axes>"
            ],
            "image/png": "[encoded data removed]"
          },
          "metadata": {}
        }
      ]
    },
    {
      "cell_type": "code",
      "source": [
        "# Plot monthly income vs attrition\n",
        "plt.figure(figsize=(10, 6))\n",
        "sns.boxplot(x='Attrition', y='Monthly Income', data=data_clean)\n",
        "plt.title('Pendapatan Bulanan vs Attrition')\n",
        "plt.xlabel('Attrition')\n",
        "plt.ylabel('Pendapatan Bulanan')\n",
        "plt.show()\n"
      ],
      "metadata": {
        "colab": {
          "base_uri": "https://localhost:8080/",
          "height": 564
        },
        "id": "tQRjV-sPj1Aj",
        "outputId": "c7322edd-3b6a-41e1-8495-b1000651ec44"
      },
      "execution_count": 13,
      "outputs": [
        {
          "output_type": "display_data",
          "data": {
            "text/plain": [
              "<Figure size 1000x600 with 1 Axes>"
            ],
            "image/png": "[encoded data removed]"
          },
          "metadata": {}
        }
      ]
    },
    {
      "cell_type": "code",
      "source": [],
      "metadata": {
        "id": "7I8TpdSHj5Xj"
      },
      "execution_count": null,
      "outputs": []
    }
  ]
}